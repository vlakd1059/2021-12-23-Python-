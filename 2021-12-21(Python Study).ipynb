{
 "cells": [
  {
   "cell_type": "markdown",
   "id": "8e68916f",
   "metadata": {},
   "source": [
    "파이썬"
   ]
  },
  {
   "cell_type": "code",
   "execution_count": 1,
   "id": "6d50304e",
   "metadata": {},
   "outputs": [],
   "source": [
    "#주석처리!\n"
   ]
  },
  {
   "cell_type": "code",
   "execution_count": 3,
   "id": "ce786383",
   "metadata": {},
   "outputs": [
    {
     "data": {
      "text/plain": [
       "4"
      ]
     },
     "execution_count": 3,
     "metadata": {},
     "output_type": "execute_result"
    }
   ],
   "source": [
    "1+3 #1+3 실행"
   ]
  },
  {
   "cell_type": "code",
   "execution_count": 6,
   "id": "fef87df2",
   "metadata": {},
   "outputs": [
    {
     "name": "stdout",
     "output_type": "stream",
     "text": [
      "-10\n"
     ]
    }
   ],
   "source": [
    "print(-10)"
   ]
  },
  {
   "cell_type": "code",
   "execution_count": 8,
   "id": "e7825a1a",
   "metadata": {},
   "outputs": [
    {
     "name": "stdout",
     "output_type": "stream",
     "text": [
      "24\n"
     ]
    }
   ],
   "source": [
    "print(3*8)"
   ]
  },
  {
   "cell_type": "code",
   "execution_count": 9,
   "id": "2be115e2",
   "metadata": {},
   "outputs": [
    {
     "name": "stdout",
     "output_type": "stream",
     "text": [
      "Hello World\n"
     ]
    }
   ],
   "source": [
    "print(\"Hello World\")"
   ]
  },
  {
   "cell_type": "code",
   "execution_count": 10,
   "id": "14e1e315",
   "metadata": {},
   "outputs": [
    {
     "name": "stdout",
     "output_type": "stream",
     "text": [
      "Hello World\n"
     ]
    }
   ],
   "source": [
    "print('Hello World')"
   ]
  },
  {
   "cell_type": "code",
   "execution_count": 11,
   "id": "17e5cb2b",
   "metadata": {},
   "outputs": [
    {
     "name": "stdout",
     "output_type": "stream",
     "text": [
      "True\n"
     ]
    }
   ],
   "source": [
    "print(5<10)"
   ]
  },
  {
   "cell_type": "code",
   "execution_count": 12,
   "id": "2894cd7c",
   "metadata": {},
   "outputs": [
    {
     "name": "stdout",
     "output_type": "stream",
     "text": [
      "3\n"
     ]
    }
   ],
   "source": [
    "num=3\n",
    "print(num)"
   ]
  },
  {
   "cell_type": "code",
   "execution_count": 14,
   "id": "b69f72b4",
   "metadata": {},
   "outputs": [
    {
     "name": "stdout",
     "output_type": "stream",
     "text": [
      "13\n",
      "25\n",
      "77\n"
     ]
    }
   ],
   "source": [
    "num1=13\n",
    "num2=25\n",
    "num3=77\n",
    "print(num1)\n",
    "print(num2)\n",
    "print(num3)"
   ]
  },
  {
   "cell_type": "code",
   "execution_count": 15,
   "id": "a2a55976",
   "metadata": {},
   "outputs": [],
   "source": [
    "#a에 10대입하기\n",
    "#b에 15대입하기"
   ]
  },
  {
   "cell_type": "code",
   "execution_count": 17,
   "id": "bd094259",
   "metadata": {},
   "outputs": [
    {
     "name": "stdout",
     "output_type": "stream",
     "text": [
      "10 15\n"
     ]
    }
   ],
   "source": [
    "a, b=10, 15\n",
    "print(a, b)"
   ]
  },
  {
   "cell_type": "code",
   "execution_count": 18,
   "id": "bbd539e9",
   "metadata": {},
   "outputs": [],
   "source": [
    "#str1 python 대입 \n",
    "#str2 python 대입"
   ]
  },
  {
   "cell_type": "code",
   "execution_count": 20,
   "id": "3abf547c",
   "metadata": {},
   "outputs": [
    {
     "name": "stdout",
     "output_type": "stream",
     "text": [
      "python python\n"
     ]
    }
   ],
   "source": [
    "str1=str2='python'\n",
    "print(str1, str2)"
   ]
  },
  {
   "cell_type": "code",
   "execution_count": 24,
   "id": "025a3721",
   "metadata": {},
   "outputs": [
    {
     "name": "stdout",
     "output_type": "stream",
     "text": [
      "300\n"
     ]
    }
   ],
   "source": [
    "x,y =100, 200\n",
    "sum=(x+y)\n",
    "print(sum)"
   ]
  },
  {
   "cell_type": "code",
   "execution_count": 28,
   "id": "6f8137c4",
   "metadata": {},
   "outputs": [
    {
     "name": "stdout",
     "output_type": "stream",
     "text": [
      "she's gone\n"
     ]
    }
   ],
   "source": [
    "a=\"she's gone\"\n",
    "# 'she\\' s gone'\n",
    "print(a)"
   ]
  },
  {
   "cell_type": "code",
   "execution_count": 32,
   "id": "e4f5ee6b",
   "metadata": {},
   "outputs": [
    {
     "name": "stdout",
     "output_type": "stream",
     "text": [
      "자세히 보아야 예쁘다.\n",
      "오래보아야 사랑스럽다.\n",
      "너도 그렇다.\n"
     ]
    }
   ],
   "source": [
    "#개행\n",
    "s1= \"자세히 보아야 예쁘다.\\n오래보아야 사랑스럽다.\\n너도 그렇다.\"\n",
    "#'''자세히 보아야 예쁘다.\n",
    "#오래보아야 사랑스럽다.\n",
    "#너도 그렇다.'''\n",
    "print(s1)"
   ]
  },
  {
   "cell_type": "markdown",
   "id": "c2de093d",
   "metadata": {},
   "source": [
    "인덱싱"
   ]
  },
  {
   "cell_type": "code",
   "execution_count": 47,
   "id": "573f2d81",
   "metadata": {},
   "outputs": [
    {
     "name": "stdout",
     "output_type": "stream",
     "text": [
      "n\n",
      "i\n",
      "i\n",
      "GH\n",
      "name\n",
      "GH\n",
      "My name is GH\n"
     ]
    }
   ],
   "source": [
    "name= \"My name is GH\"\n",
    "print(name[3])\n",
    "#i를 가져와라\n",
    "print(name[8])\n",
    "print(name[-5])\n",
    "print(name[11:13])\n",
    "print(name[3:7])\n",
    "print(name[-2:])\n",
    "print(name[:])"
   ]
  },
  {
   "cell_type": "code",
   "execution_count": 53,
   "id": "971db0d7",
   "metadata": {},
   "outputs": [
    {
     "name": "stdout",
     "output_type": "stream",
     "text": [
      "날짜 : 2021년 12월 21일\n",
      "날씨 : 맑음\n"
     ]
    }
   ],
   "source": [
    "day=\"2021년 12월 21일의 날씨는 맑음입니다.\"\n",
    "#날짜:2021년 12월 21일\n",
    "#날씨:맑음\n",
    "print('날짜 :', day[0:13])\n",
    "print('날씨 :', day[-6:-4])"
   ]
  },
  {
   "cell_type": "markdown",
   "id": "dc373d71",
   "metadata": {},
   "source": [
    "문자열 포맷팅"
   ]
  },
  {
   "cell_type": "code",
   "execution_count": 56,
   "id": "dbe94949",
   "metadata": {},
   "outputs": [
    {
     "name": "stdout",
     "output_type": "stream",
     "text": [
      "오늘은 12월 24일입니다.\n"
     ]
    }
   ],
   "source": [
    "day=24\n",
    "s='오늘은 12월 %d일입니다.'%day\n",
    "print(s)"
   ]
  },
  {
   "cell_type": "code",
   "execution_count": 60,
   "id": "3a6ddd73",
   "metadata": {},
   "outputs": [
    {
     "name": "stdout",
     "output_type": "stream",
     "text": [
      "오늘은 12월 24일 입니다.\n"
     ]
    }
   ],
   "source": [
    "day=24\n",
    "s='오늘은 12월 {}일 입니다.'.format(day)\n",
    "print(s)"
   ]
  },
  {
   "cell_type": "code",
   "execution_count": 63,
   "id": "3028e518",
   "metadata": {},
   "outputs": [
    {
     "name": "stdout",
     "output_type": "stream",
     "text": [
      "오늘은 12월 [day]일 입니다\n"
     ]
    }
   ],
   "source": [
    "day=24\n",
    "s=f'오늘은 12월 [day]일 입니다'\n",
    "print(s)"
   ]
  },
  {
   "cell_type": "code",
   "execution_count": 70,
   "id": "36b9d476",
   "metadata": {},
   "outputs": [
    {
     "ename": "SyntaxError",
     "evalue": "invalid syntax (Temp/ipykernel_16320/479217682.py, line 4)",
     "output_type": "error",
     "traceback": [
      "\u001b[1;36m  File \u001b[1;32m\"C:\\Users\\smhrd\\AppData\\Local\\Temp/ipykernel_16320/479217682.py\"\u001b[1;36m, line \u001b[1;32m4\u001b[0m\n\u001b[1;33m    print('%d와%d의 합은%d입니다.'. (x,y,sum))\u001b[0m\n\u001b[1;37m                             ^\u001b[0m\n\u001b[1;31mSyntaxError\u001b[0m\u001b[1;31m:\u001b[0m invalid syntax\n"
     ]
    }
   ],
   "source": [
    "x,y=100,200\n",
    "sum=x+y\n",
    "print('{}와{}의 합은{}입니다.'.format(x,y,sum))\n",
    "print('%d와%d의 합은%d입니다.'. (x,y,sum))"
   ]
  },
  {
   "attachments": {
    "image.png": {
     "image/png": "[encoded data removed]"
    }
   },
   "cell_type": "markdown",
   "id": "4794cb11",
   "metadata": {},
   "source": [
    "![image.png](attachment:image.png)"
   ]
  },
  {
   "cell_type": "markdown",
   "id": "a39b20cb",
   "metadata": {},
   "source": [
    "산술연산자"
   ]
  },
  {
   "cell_type": "code",
   "execution_count": 73,
   "id": "0f924f98",
   "metadata": {},
   "outputs": [
    {
     "name": "stdout",
     "output_type": "stream",
     "text": [
      "1.4285714285714286\n",
      "3\n",
      "1\n"
     ]
    }
   ],
   "source": [
    "num1=10\n",
    "num2=7\n",
    "#나누기\n",
    "#나머지\n",
    "#몫\n",
    "print(num1/num2)\n",
    "print(num1%num2)\n",
    "print(num1//num2)"
   ]
  },
  {
   "cell_type": "code",
   "execution_count": 78,
   "id": "86498d49",
   "metadata": {},
   "outputs": [
    {
     "name": "stdout",
     "output_type": "stream",
     "text": [
      "17\n",
      "107\n"
     ]
    }
   ],
   "source": [
    "str1=\"10\"\n",
    "num3=7\n",
    "print((int)(str1)+num3)\n",
    "print(str1+str(num3))"
   ]
  },
  {
   "cell_type": "code",
   "execution_count": 90,
   "id": "8f49b7b3",
   "metadata": {},
   "outputs": [
    {
     "name": "stdout",
     "output_type": "stream",
     "text": [
      "더하기 결과:26\n",
      "뺴기 결과:20\n",
      "곱하기 결과:69\n",
      "나누기 결과:7.666667\n"
     ]
    }
   ],
   "source": [
    "num1=23\n",
    "num2=3\n",
    "print('더하기 결과:%d'%(num1+num2))\n",
    "print('뺴기 결과:%d'%(num1-num2))\n",
    "print('곱하기 결과:%d'%(num1*num2))\n",
    "print('나누기 결과:%f'%(num1/num2))"
   ]
  },
  {
   "cell_type": "markdown",
   "id": "2487ebdf",
   "metadata": {},
   "source": [
    "키보드로 입력받아서 연산진행!\n",
    "input()함수 사용"
   ]
  },
  {
   "cell_type": "code",
   "execution_count": 92,
   "id": "c3a23bff",
   "metadata": {},
   "outputs": [
    {
     "name": "stdout",
     "output_type": "stream",
     "text": [
      "건하\n"
     ]
    }
   ],
   "source": [
    "name=input()"
   ]
  },
  {
   "cell_type": "code",
   "execution_count": 93,
   "id": "d20b9bae",
   "metadata": {},
   "outputs": [
    {
     "name": "stdout",
     "output_type": "stream",
     "text": [
      "건하\n"
     ]
    }
   ],
   "source": [
    "print(name)"
   ]
  },
  {
   "cell_type": "code",
   "execution_count": 94,
   "id": "d6d29614",
   "metadata": {},
   "outputs": [
    {
     "name": "stdout",
     "output_type": "stream",
     "text": [
      "정수를 입력하세요>>3\n",
      "3\n"
     ]
    }
   ],
   "source": [
    "num=input(\"정수를 입력하세요>>\")\n",
    "print(num)"
   ]
  },
  {
   "cell_type": "code",
   "execution_count": 100,
   "id": "a771e70e",
   "metadata": {},
   "outputs": [
    {
     "data": {
      "text/plain": [
       "str"
      ]
     },
     "execution_count": 100,
     "metadata": {},
     "output_type": "execute_result"
    }
   ],
   "source": [
    "type(name)"
   ]
  },
  {
   "cell_type": "code",
   "execution_count": 107,
   "id": "ecc7b69d",
   "metadata": {},
   "outputs": [
    {
     "name": "stdout",
     "output_type": "stream",
     "text": [
      "#키보드 입력 >> 23\n",
      "#키보드 입력 >> 3\n",
      "더하기 결과 : 26\n",
      "뺴기 결과 : 20\n",
      "곱하기 결과 : 69\n",
      "나누기 결과 : 7.666667\n"
     ]
    }
   ],
   "source": [
    "num1=int(input(\"#키보드 입력 >> \"))\n",
    "num2=int(input(\"#키보드 입력 >> \"))\n",
    "\n",
    "print('더하기 결과 : %d'%(num1+num2))\n",
    "print('뺴기 결과 : %d'%(num1-num2))\n",
    "print('곱하기 결과 : %d'%(num1*num2))\n",
    "print('나누기 결과 : %f'%(num1/num2))"
   ]
  },
  {
   "cell_type": "code",
   "execution_count": 110,
   "id": "850afbbc",
   "metadata": {},
   "outputs": [
    {
     "name": "stdout",
     "output_type": "stream",
     "text": [
      "python 점수입력 : 100\n",
      "머신러닝 점수입력 : 80\n",
      "딥러닝 점수입력 : 60\n",
      "합계 : 240\n",
      "평균 : 80.0\n"
     ]
    }
   ],
   "source": [
    "py=int(input(\"python 점수입력 : \"))\n",
    "ml=int(input(\"머신러닝 점수입력 : \"))\n",
    "dl=int(input(\"딥러닝 점수입력 : \"))\n",
    "sum=py+ml+dl\n",
    "print(\"합계 : {}\".format(sum))\n",
    "print(\"평균 : {}\".format(sum/3))"
   ]
  },
  {
   "cell_type": "markdown",
   "id": "70f5b7b3",
   "metadata": {},
   "source": [
    "지수연산자(**)"
   ]
  },
  {
   "cell_type": "code",
   "execution_count": 111,
   "id": "0114d24a",
   "metadata": {},
   "outputs": [
    {
     "name": "stdout",
     "output_type": "stream",
     "text": [
      "9\n"
     ]
    }
   ],
   "source": [
    "num=3\n",
    "power=2\n",
    "print(num**power)"
   ]
  },
  {
   "cell_type": "code",
   "execution_count": 112,
   "id": "e2551c05",
   "metadata": {},
   "outputs": [],
   "source": [
    "a=3\n",
    "b=7"
   ]
  },
  {
   "cell_type": "code",
   "execution_count": 113,
   "id": "75ff388b",
   "metadata": {},
   "outputs": [],
   "source": [
    "temp=a\n",
    "a=b\n",
    "b=temp"
   ]
  },
  {
   "cell_type": "code",
   "execution_count": 117,
   "id": "05d30268",
   "metadata": {},
   "outputs": [
    {
     "name": "stdout",
     "output_type": "stream",
     "text": [
      "7\n",
      "3\n"
     ]
    }
   ],
   "source": [
    "print(a)\n",
    "print(b)"
   ]
  },
  {
   "cell_type": "code",
   "execution_count": 120,
   "id": "0259db4a",
   "metadata": {},
   "outputs": [
    {
     "name": "stdout",
     "output_type": "stream",
     "text": [
      "3\n",
      "7\n"
     ]
    }
   ],
   "source": [
    "a,b=b,a\n",
    "print(a)\n",
    "print(b)"
   ]
  },
  {
   "cell_type": "markdown",
   "id": "db4dba02",
   "metadata": {},
   "source": [
    "논리연산자"
   ]
  },
  {
   "cell_type": "code",
   "execution_count": null,
   "id": "ed0fb1df",
   "metadata": {},
   "outputs": [],
   "source": [
    "#not, and, or"
   ]
  },
  {
   "cell_type": "code",
   "execution_count": 122,
   "id": "d25ea355",
   "metadata": {},
   "outputs": [
    {
     "name": "stdout",
     "output_type": "stream",
     "text": [
      "True\n"
     ]
    },
    {
     "data": {
      "text/plain": [
       "False"
      ]
     },
     "execution_count": 122,
     "metadata": {},
     "output_type": "execute_result"
    }
   ],
   "source": [
    "a=1\n",
    "b=5\n",
    "print(a<b)\n",
    "not a<b"
   ]
  }
 ],
 "metadata": {
  "kernelspec": {
   "display_name": "Python 3 (ipykernel)",
   "language": "python",
   "name": "python3"
  },
  "language_info": {
   "codemirror_mode": {
    "name": "ipython",
    "version": 3
   },
   "file_extension": ".py",
   "mimetype": "text/x-python",
   "name": "python",
   "nbconvert_exporter": "python",
   "pygments_lexer": "ipython3",
   "version": "3.9.7"
  }
 },
 "nbformat": 4,
 "nbformat_minor": 5
}
